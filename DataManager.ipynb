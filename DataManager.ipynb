{
 "cells": [
  {
   "cell_type": "code",
   "execution_count": 1,
   "id": "5190310c-9a72-45a6-ba9f-ba86fa10bc09",
   "metadata": {},
   "outputs": [],
   "source": [
    "import warnings\n",
    "warnings.filterwarnings('ignore')"
   ]
  },
  {
   "cell_type": "code",
   "execution_count": 2,
   "id": "dc67f10b-2396-48da-a3fd-56b8d231439a",
   "metadata": {},
   "outputs": [],
   "source": [
    "import numpy as np"
   ]
  },
  {
   "cell_type": "code",
   "execution_count": 3,
   "id": "9a82b9ed-4dd4-4cad-907b-3ddb94ab6617",
   "metadata": {},
   "outputs": [],
   "source": [
    "import os\n",
    "import random\n",
    "import shutil"
   ]
  },
  {
   "cell_type": "code",
   "execution_count": 4,
   "id": "74e85677-f0d2-46c2-b3eb-ef56a3bfd692",
   "metadata": {},
   "outputs": [],
   "source": [
    "import cv2"
   ]
  },
  {
   "cell_type": "markdown",
   "id": "af6eb6eb-f8c9-4589-8029-0e01e50c41e4",
   "metadata": {},
   "source": [
    "### Data management"
   ]
  },
  {
   "cell_type": "code",
   "execution_count": 5,
   "id": "eb5e9f12-cf73-40d4-8d72-f861b0395d88",
   "metadata": {},
   "outputs": [
    {
     "data": {
      "text/plain": [
       "'C:\\\\Personal\\\\Local\\\\Coding\\\\Projects\\\\AI\\\\physics-classification'"
      ]
     },
     "execution_count": 5,
     "metadata": {},
     "output_type": "execute_result"
    }
   ],
   "source": [
    "root = os.getcwd()\n",
    "root"
   ]
  },
  {
   "cell_type": "code",
   "execution_count": 6,
   "id": "e2703f69-8241-41c2-8ac5-bf18f1d36e64",
   "metadata": {},
   "outputs": [],
   "source": [
    "freefall_path = os.path.join(root, 'Freefall', 'Freefall')\n",
    "freefall_list = os.listdir(freefall_path)\n",
    "#freefall_list"
   ]
  },
  {
   "cell_type": "code",
   "execution_count": 7,
   "id": "c9b685ef-28d5-4bc7-af39-ab6766213366",
   "metadata": {},
   "outputs": [
    {
     "name": "stdout",
     "output_type": "stream",
     "text": [
      "106\n"
     ]
    }
   ],
   "source": [
    "print(len(freefall_list))"
   ]
  },
  {
   "cell_type": "code",
   "execution_count": 8,
   "id": "5a708d61-e679-4727-b353-5f44f9e74fdd",
   "metadata": {},
   "outputs": [],
   "source": [
    "soundfire_path = os.path.join(root, 'Sound_vs_Fire', 'Sound_vs_Fire')\n",
    "soundfire_list = os.listdir(soundfire_path)\n",
    "#soundfire_list"
   ]
  },
  {
   "cell_type": "code",
   "execution_count": 9,
   "id": "862b9ee9-be67-4b5e-b628-55585687b237",
   "metadata": {},
   "outputs": [
    {
     "name": "stdout",
     "output_type": "stream",
     "text": [
      "24\n"
     ]
    }
   ],
   "source": [
    "print(len(soundfire_list))"
   ]
  },
  {
   "cell_type": "code",
   "execution_count": 10,
   "id": "3bf5d709-bf19-4d07-bab9-6ee5252928b3",
   "metadata": {},
   "outputs": [
    {
     "data": {
      "text/plain": [
       "['20250715_163752.mp4',\n",
       " '20250714_184912.mp4',\n",
       " '20250714_184608.mp4',\n",
       " '20250714_184608.mp4',\n",
       " '20250715_164224.mp4',\n",
       " '20250714_184641.mp4',\n",
       " '20250714_190007.mp4',\n",
       " '20250715_164549.mp4',\n",
       " '20250715_165100.mp4',\n",
       " '20250715_164951.mp4']"
      ]
     },
     "execution_count": 10,
     "metadata": {},
     "output_type": "execute_result"
    }
   ],
   "source": [
    "# 10% for unseen\n",
    "\n",
    "# Free fall\n",
    "ff_ran = []\n",
    "ff_rate = int((len(freefall_list)) * 10 /100)\n",
    "\n",
    "for i in range (0, ff_rate):\n",
    "    n = random.randint(0, len(freefall_list)-1)\n",
    "    while n in ff_ran:\n",
    "        n = random.randint(0, len(freefall_list)-1)\n",
    "    ff_ran.append(freefall_list[n])\n",
    "\n",
    "ff_ran"
   ]
  },
  {
   "cell_type": "code",
   "execution_count": 11,
   "id": "43a2a17e-f3db-4d98-b753-a4cdf861d5fd",
   "metadata": {},
   "outputs": [
    {
     "data": {
      "text/plain": [
       "['1739800161844.mp4', 'typt2025-fire-70hz.mp4']"
      ]
     },
     "execution_count": 11,
     "metadata": {},
     "output_type": "execute_result"
    }
   ],
   "source": [
    "# Sound vs Fire\n",
    "sf_ran = []\n",
    "sf_rate = int((len(soundfire_list)) * 10 /100)\n",
    "\n",
    "for i in range (0, sf_rate):\n",
    "    n = random.randint(0, len(soundfire_list)-1)\n",
    "    while n in ff_ran:\n",
    "        n = random.randint(0, len(soundfire_list)-1)\n",
    "    sf_ran.append(soundfire_list[n])\n",
    "\n",
    "sf_ran"
   ]
  },
  {
   "cell_type": "code",
   "execution_count": 12,
   "id": "c3669b09-3a50-44ae-959f-4a688e5908f1",
   "metadata": {},
   "outputs": [
    {
     "name": "stdout",
     "output_type": "stream",
     "text": [
      "20250715_163752.mp4 ✅\n",
      "20250714_184912.mp4 ✅\n",
      "20250714_184608.mp4 ✅\n",
      "20250714_184608.mp4 ✅\n",
      "20250715_164224.mp4 ✅\n",
      "20250714_184641.mp4 ✅\n",
      "20250714_190007.mp4 ✅\n",
      "20250715_164549.mp4 ✅\n",
      "20250715_165100.mp4 ✅\n",
      "20250715_164951.mp4 ✅\n"
     ]
    }
   ],
   "source": [
    "# Copy to unseen\n",
    "for i in range(len(ff_ran)):\n",
    "    source = os.path.join(root, 'Freefall', 'Freefall', ff_ran[i])\n",
    "    ff_unseen_path = os.path.join(root, 'unseen', ff_ran[i])\n",
    "    shutil.copyfile(source, ff_unseen_path)\n",
    "    print(ff_ran[i], '✅')"
   ]
  },
  {
   "cell_type": "code",
   "execution_count": 13,
   "id": "9f3c731d-64fc-43e1-afd0-de639f137a85",
   "metadata": {},
   "outputs": [
    {
     "name": "stdout",
     "output_type": "stream",
     "text": [
      "1739800161844.mp4 ✅\n",
      "typt2025-fire-70hz.mp4 ✅\n"
     ]
    }
   ],
   "source": [
    "# Copy to unseen\n",
    "for i in range(len(sf_ran)):\n",
    "    source = os.path.join(root, 'Sound_vs_Fire', 'Sound_vs_Fire', sf_ran[i])\n",
    "    sf_unseen_path = os.path.join(root, 'unseen', sf_ran[i])\n",
    "    shutil.copyfile(source, sf_unseen_path)\n",
    "    print(sf_ran[i], '✅')"
   ]
  },
  {
   "cell_type": "markdown",
   "id": "177e9f63-b4bb-4f03-9081-e7ed7f2bbae2",
   "metadata": {},
   "source": [
    "### Extract Frames"
   ]
  },
  {
   "cell_type": "code",
   "execution_count": 14,
   "id": "db1f6933-8dd3-4b86-9e4d-403d62e6177c",
   "metadata": {},
   "outputs": [],
   "source": [
    "def extract_frames(video_path, dest, n, i):\n",
    "    # n = 0 -> Free fall\n",
    "    # n = 1 -> Sound vs Fire\n",
    "    \n",
    "    if not os.path.exists(dest):\n",
    "        os.makedirs(dest)  # Create output directory if not exists\n",
    "\n",
    "    cap = cv2.VideoCapture(video_path)\n",
    "    count = 0\n",
    "\n",
    "    while True:\n",
    "        success, image = cap.read()\n",
    "        if not success:\n",
    "            break\n",
    "        if n==0:\n",
    "            frame_path = os.path.join(dest, freefall_list[i] +f\"{count}.png\")\n",
    "            cv2.imwrite(frame_path, image)\n",
    "            count += 1\n",
    "        elif n==1:\n",
    "            frame_path = os.path.join(dest, soundfire_list[i] +f\"{count}.png\")\n",
    "            cv2.imwrite(frame_path, image)\n",
    "            count += 1\n",
    "        else:\n",
    "            print('Error ☠️')\n",
    "\n",
    "    cap.release()"
   ]
  },
  {
   "cell_type": "code",
   "execution_count": 15,
   "id": "9d61544c-a56b-4ebf-ad06-2e74d7a4da52",
   "metadata": {},
   "outputs": [
    {
     "data": {
      "text/plain": [
       "'C:\\\\Personal\\\\Local\\\\Coding\\\\Projects\\\\AI\\\\physics-classification\\\\data\\\\Freefall'"
      ]
     },
     "execution_count": 15,
     "metadata": {},
     "output_type": "execute_result"
    }
   ],
   "source": [
    "ff_path = os.path.join(root, 'data', 'Freefall')\n",
    "ff_path"
   ]
  },
  {
   "cell_type": "code",
   "execution_count": 16,
   "id": "6102f4a9-6f4d-4ffa-b24b-19b898efd58b",
   "metadata": {},
   "outputs": [
    {
     "name": "stdout",
     "output_type": "stream",
     "text": [
      "Extract 0 20250714_180102.mp4 ✅\n",
      "Extract 1 20250714_180139.mp4 ✅\n",
      "Extract 2 20250714_181325.mp4 ✅\n",
      "Extract 3 20250714_181419.mp4 ✅\n",
      "Extract 4 20250714_181431.mp4 ✅\n",
      "Extract 5 20250714_181501.mp4 ✅\n",
      "Extract 6 20250714_181512.mp4 ✅\n",
      "Extract 7 20250714_181524.mp4 ✅\n",
      "Extract 8 20250714_181536.mp4 ✅\n",
      "Extract 9 20250714_181544.mp4 ✅\n",
      "Extract 10 20250714_182202.mp4 ✅\n",
      "Extract 11 20250714_182321.mp4 ✅\n",
      "Extract 12 20250714_182443.mp4 ✅\n",
      "Extract 13 20250714_182452.mp4 ✅\n",
      "Extract 14 20250714_182501.mp4 ✅\n",
      "Extract 15 20250714_182508.mp4 ✅\n",
      "Extract 16 20250714_182550.mp4 ✅\n",
      "Extract 17 20250714_182559.mp4 ✅\n",
      "Extract 18 20250714_182605.mp4 ✅\n",
      "Extract 19 20250714_182727.mp4 ✅\n",
      "Extract 20 20250714_182908.mp4 ✅\n",
      "Extract 21 20250714_182919.mp4 ✅\n",
      "Extract 22 20250714_182932.mp4 ✅\n",
      "Extract 23 20250714_183014.mp4 ✅\n",
      "Extract 24 20250714_183105.mp4 ✅\n",
      "Extract 25 20250714_183117.mp4 ✅\n",
      "Extract 26 20250714_183138.mp4 ✅\n",
      "Extract 27 20250714_183152.mp4 ✅\n",
      "Extract 28 20250714_183212.mp4 ✅\n",
      "Extract 29 20250714_183232.mp4 ✅\n",
      "Extract 30 20250714_183300.mp4 ✅\n",
      "Extract 31 20250714_183654.mp4 ✅\n",
      "Extract 32 20250714_183712.mp4 ✅\n",
      "Extract 33 20250714_183850.mp4 ✅\n",
      "Extract 34 20250714_183902.mp4 ✅\n",
      "Extract 35 20250714_183951.mp4 ✅\n",
      "Extract 36 20250714_184015.mp4 ✅\n",
      "Extract 37 20250714_184101.mp4 ✅\n",
      "Extract 38 20250714_184122.mp4 ✅\n",
      "Extract 39 20250714_184140.mp4 ✅\n",
      "Extract 40 20250714_184513.mp4 ✅\n",
      "41 20250714_184608.mp4 ❌\n",
      "42 20250714_184641.mp4 ❌\n",
      "Extract 43 20250714_184807.mp4 ✅\n",
      "Extract 44 20250714_184817.mp4 ✅\n",
      "Extract 45 20250714_184842.mp4 ✅\n",
      "46 20250714_184912.mp4 ❌\n",
      "Extract 47 20250714_184931.mp4 ✅\n",
      "Extract 48 20250714_185005.mp4 ✅\n",
      "Extract 49 20250714_185132.mp4 ✅\n",
      "Extract 50 20250714_185511.mp4 ✅\n",
      "Extract 51 20250714_185521.mp4 ✅\n",
      "Extract 52 20250714_185542.mp4 ✅\n",
      "Extract 53 20250714_185550.mp4 ✅\n",
      "Extract 54 20250714_185558.mp4 ✅\n",
      "Extract 55 20250714_185610.mp4 ✅\n",
      "Extract 56 20250714_185653.mp4 ✅\n",
      "Extract 57 20250714_185721.mp4 ✅\n",
      "Extract 58 20250714_185742.mp4 ✅\n",
      "Extract 59 20250714_185801.mp4 ✅\n",
      "Extract 60 20250714_185842.mp4 ✅\n",
      "Extract 61 20250714_185850.mp4 ✅\n",
      "Extract 62 20250714_185856.mp4 ✅\n",
      "Extract 63 20250714_185900.mp4 ✅\n",
      "Extract 64 20250714_185906.mp4 ✅\n",
      "Extract 65 20250714_185929.mp4 ✅\n",
      "Extract 66 20250714_185934.mp4 ✅\n",
      "Extract 67 20250714_185939.mp4 ✅\n",
      "Extract 68 20250714_185943.mp4 ✅\n",
      "Extract 69 20250714_185957.mp4 ✅\n",
      "70 20250714_190007.mp4 ❌\n",
      "Extract 71 20250714_190013.mp4 ✅\n",
      "Extract 72 20250714_190021.mp4 ✅\n",
      "Extract 73 20250714_190024.mp4 ✅\n",
      "Extract 74 20250714_190029.mp4 ✅\n",
      "Extract 75 20250714_190036.mp4 ✅\n",
      "Extract 76 20250714_190039.mp4 ✅\n",
      "Extract 77 20250714_190055.mp4 ✅\n",
      "Extract 78 20250714_190106.mp4 ✅\n",
      "Extract 79 20250714_190110.mp4 ✅\n",
      "Extract 80 20250714_190533.mp4 ✅\n",
      "Extract 81 20250714_190735.mp4 ✅\n",
      "Extract 82 20250714_190750.mp4 ✅\n",
      "Extract 83 20250715_163659.mp4 ✅\n",
      "Extract 84 20250715_163738.mp4 ✅\n",
      "85 20250715_163752.mp4 ❌\n",
      "Extract 86 20250715_163827.mp4 ✅\n",
      "Extract 87 20250715_163931.mp4 ✅\n",
      "Extract 88 20250715_164036.mp4 ✅\n",
      "Extract 89 20250715_164104.mp4 ✅\n",
      "Extract 90 20250715_164137.mp4 ✅\n",
      "91 20250715_164224.mp4 ❌\n",
      "Extract 92 20250715_164334.mp4 ✅\n",
      "93 20250715_164549.mp4 ❌\n",
      "Extract 94 20250715_164621.mp4 ✅\n",
      "Extract 95 20250715_164637.mp4 ✅\n",
      "Extract 96 20250715_164707.mp4 ✅\n",
      "Extract 97 20250715_164801.mp4 ✅\n",
      "Extract 98 20250715_164812.mp4 ✅\n",
      "Extract 99 20250715_164846.mp4 ✅\n",
      "100 20250715_164951.mp4 ❌\n",
      "Extract 101 20250715_164959.mp4 ✅\n",
      "Extract 102 20250715_165007.mp4 ✅\n",
      "Extract 103 20250715_165038.mp4 ✅\n",
      "Extract 104 20250715_165050.mp4 ✅\n",
      "105 20250715_165100.mp4 ❌\n"
     ]
    }
   ],
   "source": [
    "for i in range(0, len(freefall_list)):\n",
    "    file = os.path.join(freefall_path, freefall_list[i])\n",
    "    if freefall_list[i] not in ff_ran:\n",
    "        temp_path = os.path.join(ff_path)\n",
    "        extract_frames(file, temp_path, 0, i)\n",
    "        print('Extract', i, freefall_list[i], '✅')\n",
    "    if freefall_list[i] in ff_ran:\n",
    "        print(i, freefall_list[i], '❌')"
   ]
  },
  {
   "cell_type": "code",
   "execution_count": 17,
   "id": "ad738252-9673-476b-8f89-41c3f581efc3",
   "metadata": {},
   "outputs": [
    {
     "data": {
      "text/plain": [
       "'C:\\\\Personal\\\\Local\\\\Coding\\\\Projects\\\\AI\\\\physics-classification\\\\data\\\\Sound_vs_Fire'"
      ]
     },
     "execution_count": 17,
     "metadata": {},
     "output_type": "execute_result"
    }
   ],
   "source": [
    "sf_path = os.path.join(root, 'data', 'Sound_vs_Fire')\n",
    "sf_path"
   ]
  },
  {
   "cell_type": "code",
   "execution_count": 18,
   "id": "bb8ba9e4-85aa-466e-b051-e0e64ca972cc",
   "metadata": {},
   "outputs": [
    {
     "name": "stdout",
     "output_type": "stream",
     "text": [
      "Extract 0 1739800158263.mp4 ✅\n",
      "1 1739800161844.mp4 ❌\n",
      "Extract 2 1739800163428.jpg ✅\n",
      "Extract 3 1739800166926.mp4 ✅\n",
      "Extract 4 1739800173500.mp4 ✅\n",
      "Extract 5 1739800176172.mp4 ✅\n",
      "Extract 6 1739800178150.mp4 ✅\n",
      "Extract 7 1739800182850.mp4 ✅\n",
      "Extract 8 1739800184986.mp4 ✅\n",
      "Extract 9 1739800189439.mp4 ✅\n",
      "Extract 10 1739800191038.mp4 ✅\n",
      "Extract 11 typt2025-fire-10hz.mp4 ✅\n",
      "Extract 12 typt2025-fire-110hz.mp4 ✅\n",
      "Extract 13 typt2025-fire-1hz.mp4 ✅\n",
      "Extract 14 typt2025-fire-20hz.mp4 ✅\n",
      "Extract 15 typt2025-fire-30hz.mp4 ✅\n",
      "Extract 16 typt2025-fire-40hz.mp4 ✅\n",
      "Extract 17 typt2025-fire-50hz.mp4 ✅\n",
      "Extract 18 typt2025-fire-60hz.mp4 ✅\n",
      "19 typt2025-fire-70hz.mp4 ❌\n",
      "Extract 20 video_20250221_174736.mp4 ✅\n",
      "Extract 21 video_20250222_161120.mp4 ✅\n",
      "Extract 22 video_20250222_161418.mp4 ✅\n",
      "Extract 23 video_20250222_162931.mp4 ✅\n"
     ]
    }
   ],
   "source": [
    "for i in range(0, len(soundfire_list)):\n",
    "    file = os.path.join(soundfire_path, soundfire_list[i])\n",
    "    if soundfire_list[i] not in sf_ran:\n",
    "        temp_path = os.path.join(sf_path)\n",
    "        extract_frames(file, temp_path, 0, i)\n",
    "        print('Extract', i, soundfire_list[i], '✅')\n",
    "    if soundfire_list[i] in sf_ran:\n",
    "        print(i, soundfire_list[i], '❌')"
   ]
  }
 ],
 "metadata": {
  "kernelspec": {
   "display_name": "Python 3 (ipykernel)",
   "language": "python",
   "name": "python3"
  },
  "language_info": {
   "codemirror_mode": {
    "name": "ipython",
    "version": 3
   },
   "file_extension": ".py",
   "mimetype": "text/x-python",
   "name": "python",
   "nbconvert_exporter": "python",
   "pygments_lexer": "ipython3",
   "version": "3.12.3"
  }
 },
 "nbformat": 4,
 "nbformat_minor": 5
}
